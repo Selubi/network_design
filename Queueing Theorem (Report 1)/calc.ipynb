{
 "cells": [
  {
   "cell_type": "code",
   "execution_count": 31,
   "source": [
    "c=1\n",
    "time_come=8/50\n",
    "time_service=8/26"
   ],
   "outputs": [],
   "metadata": {}
  },
  {
   "cell_type": "code",
   "execution_count": 32,
   "source": [
    "from math import factorial\n",
    "def calc_queue(c,tc,ts):\n",
    "    lam=1/tc\n",
    "    mu=1/ts\n",
    "    rho=lam/(c*mu)\n",
    "    temp=0\n",
    "    for i in range(1,c):\n",
    "        temp+=(c*rho)**i/factorial(i)\n",
    "    p0=1/(1+temp+(c*rho)**c/(factorial(c)*(1-rho)))\n",
    "    b=(c*rho)**c*p0/(factorial(c)*(1-rho))\n",
    "    Lq=rho/(1-rho)*b\n",
    "    L=Lq+c*rho\n",
    "    Wq=Lq/lam\n",
    "    W=L/lam\n",
    "    print(\"lambda \",lam)\n",
    "    print(\"mu \",mu)\n",
    "    print(\"rho \",rho)\n",
    "    print(\"p0 \",p0)\n",
    "    print(\"b \",b)\n",
    "    print(\"Lq \",Lq)\n",
    "    print(\"L \",L)\n",
    "    print(\"Wq \",Wq)\n",
    "    print(\"W \",W)"
   ],
   "outputs": [],
   "metadata": {}
  },
  {
   "cell_type": "code",
   "execution_count": 47,
   "source": [
    "calc_queue(1,8/50,8/60)"
   ],
   "outputs": [
    {
     "output_type": "stream",
     "name": "stdout",
     "text": [
      "lambda  6.25\n",
      "mu  7.5\n",
      "rho  0.8333333333333334\n",
      "p0  0.16666666666666663\n",
      "b  0.8333333333333334\n",
      "Lq  4.166666666666669\n",
      "L  5.000000000000002\n",
      "Wq  0.666666666666667\n",
      "W  0.8000000000000003\n"
     ]
    }
   ],
   "metadata": {}
  },
  {
   "cell_type": "code",
   "execution_count": 50,
   "source": [
    "calc_queue(3,8/50,8/26)"
   ],
   "outputs": [
    {
     "output_type": "stream",
     "name": "stdout",
     "text": [
      "lambda  6.25\n",
      "mu  3.25\n",
      "rho  0.6410256410256411\n",
      "p0  0.1238516502211636\n",
      "b  0.4089564739445652\n",
      "Lq  0.7302794177581523\n",
      "L  2.6533563408350758\n",
      "Wq  0.11684470684130437\n",
      "W  0.42453701453361214\n"
     ]
    }
   ],
   "metadata": {}
  },
  {
   "cell_type": "code",
   "execution_count": 36,
   "source": [
    "calc_queue(3,8/50,8/26)"
   ],
   "outputs": [
    {
     "output_type": "stream",
     "name": "stdout",
     "text": [
      "lambda  6.25\n",
      "mu  3.25\n",
      "rho  0.6410256410256411\n",
      "p0  0.1238516502211636\n",
      "b  0.4089564739445652\n",
      "Lq  0.7302794177581523\n",
      "L  2.6533563408350758\n",
      "Wq  0.11684470684130437\n",
      "W  0.42453701453361214\n"
     ]
    }
   ],
   "metadata": {}
  },
  {
   "cell_type": "code",
   "execution_count": null,
   "source": [],
   "outputs": [],
   "metadata": {}
  }
 ],
 "metadata": {
  "orig_nbformat": 4,
  "language_info": {
   "name": "python",
   "version": "3.9.7",
   "mimetype": "text/x-python",
   "codemirror_mode": {
    "name": "ipython",
    "version": 3
   },
   "pygments_lexer": "ipython3",
   "nbconvert_exporter": "python",
   "file_extension": ".py"
  },
  "kernelspec": {
   "name": "python3",
   "display_name": "Python 3.9.7 64-bit ('main': conda)"
  },
  "interpreter": {
   "hash": "50a13140c5358db837e7d7cdc12e24c9cfbb5f58e02f3296dcd8fc6eed3e7049"
  }
 },
 "nbformat": 4,
 "nbformat_minor": 2
}